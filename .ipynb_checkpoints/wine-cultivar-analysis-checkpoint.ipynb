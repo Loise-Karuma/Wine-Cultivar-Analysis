{
 "cells": [
  {
   "cell_type": "markdown",
   "metadata": {
    "_uuid": "49353e21adea2ed4c13d2538371c4c9c72f82ea9"
   },
   "source": [
    "## Dataset\n",
    "This project analyzes a wines dataset available to the public through the University of California Irvine Machine Learning repository. The dataset consists of 178 Italian wine samples, all from the same geographic region, but from 3 different cultivars. Each sample has 14 features: one is the cultivar's identifier, and the others are chemical attributes. The cultivar is a categorical variable that can take only 3 values: (Region) 1, (Region) 2, and (Region) 3. The chemical attributes are all numerical and continuous. This is a list of the 14 variables:\n",
    "\n",
    "* Cultivar\n",
    "* Alcohol\n",
    "* Malic acid\n",
    "* Ash\n",
    "* Alcalinity of ash  \n",
    "* Magnesium\n",
    "* Total phenols\n",
    "* Flavanoids\n",
    "* Nonflavanoid phenols\n",
    "* Proanthocyanins\n",
    "* Color intensity\n",
    "* Hue\n",
    "* OD280/OD315 of diluted wines\n",
    "* Proline  \n"
   ]
  },
  {
   "cell_type": "markdown",
   "metadata": {
    "_uuid": "d9eb977a09a4cb5722992e96e5fc7b97292b1cf1"
   },
   "source": [
    "## Importing Libraries"
   ]
  },
  {
   "cell_type": "code",
   "execution_count": 3,
   "metadata": {
    "_uuid": "970ebb4e33d294376d32a04da4678012ed83f875"
   },
   "outputs": [],
   "source": [
    "import numpy as np\n",
    "import pandas as pd\n",
    "import matplotlib.pyplot as plt\n",
    "from pandas.plotting import parallel_coordinates\n",
    "from scipy.stats import ttest_ind\n",
    "from math import sqrt\n",
    "from itertools import cycle, islice\n",
    "%matplotlib inline"
   ]
  },
  {
   "cell_type": "code",
   "execution_count": null,
   "metadata": {
    "_uuid": "357bd50cf144362afefd6b594427a9624e8635b9"
   },
   "outputs": [],
   "source": [
    "## Reading Dataset"
   ]
  },
  {
   "cell_type": "code",
   "execution_count": 6,
   "metadata": {
    "_uuid": "a275b8ca52a3730ca9240b39a1d20131948402dd"
   },
   "outputs": [
    {
     "name": "stdout",
     "output_type": "stream",
     "text": [
      "<class 'pandas.core.frame.DataFrame'>\n"
     ]
    }
   ],
   "source": [
    "wine_df = pd.read_csv('Wine.csv', sep=',',names=[\"Cultivar\",\"Alcohol\",\"Malic\",\"Ash\",\"Alkalinity\",\"Magnesium\",\"Phenols\",\"Flavanoids\",\"Nonflav\",\"Proanthocyan\",\"Color\",\"Hue\",\"OD280\",\"Proline\"])\n",
    "print(type(wine_df))"
   ]
  },
  {
   "cell_type": "markdown",
   "metadata": {
    "_uuid": "2310a5cd72435de22882ea851ff2f5fe47ebd4e5"
   },
   "source": [
    "## Exploring Dataset\n"
   ]
  },
  {
   "cell_type": "code",
   "execution_count": 7,
   "metadata": {
    "_uuid": "d7416e920c8fb3ce69a85e36c9e4520cdf961098"
   },
   "outputs": [
    {
     "name": "stdout",
     "output_type": "stream",
     "text": [
      "Dataframe has 178 records and 14 variables.\n",
      "\n"
     ]
    },
    {
     "data": {
      "text/html": [
       "<div>\n",
       "<style scoped>\n",
       "    .dataframe tbody tr th:only-of-type {\n",
       "        vertical-align: middle;\n",
       "    }\n",
       "\n",
       "    .dataframe tbody tr th {\n",
       "        vertical-align: top;\n",
       "    }\n",
       "\n",
       "    .dataframe thead th {\n",
       "        text-align: right;\n",
       "    }\n",
       "</style>\n",
       "<table border=\"1\" class=\"dataframe\">\n",
       "  <thead>\n",
       "    <tr style=\"text-align: right;\">\n",
       "      <th></th>\n",
       "      <th>Cultivar</th>\n",
       "      <th>Alcohol</th>\n",
       "      <th>Malic</th>\n",
       "      <th>Ash</th>\n",
       "      <th>Alkalinity</th>\n",
       "      <th>Magnesium</th>\n",
       "      <th>Phenols</th>\n",
       "      <th>Flavanoids</th>\n",
       "      <th>Nonflav</th>\n",
       "      <th>Proanthocyan</th>\n",
       "      <th>Color</th>\n",
       "      <th>Hue</th>\n",
       "      <th>OD280</th>\n",
       "      <th>Proline</th>\n",
       "    </tr>\n",
       "  </thead>\n",
       "  <tbody>\n",
       "    <tr>\n",
       "      <th>0</th>\n",
       "      <td>1</td>\n",
       "      <td>14.23</td>\n",
       "      <td>1.71</td>\n",
       "      <td>2.43</td>\n",
       "      <td>15.6</td>\n",
       "      <td>127</td>\n",
       "      <td>2.80</td>\n",
       "      <td>3.06</td>\n",
       "      <td>0.28</td>\n",
       "      <td>2.29</td>\n",
       "      <td>5.64</td>\n",
       "      <td>1.04</td>\n",
       "      <td>3.92</td>\n",
       "      <td>1065</td>\n",
       "    </tr>\n",
       "    <tr>\n",
       "      <th>1</th>\n",
       "      <td>1</td>\n",
       "      <td>13.20</td>\n",
       "      <td>1.78</td>\n",
       "      <td>2.14</td>\n",
       "      <td>11.2</td>\n",
       "      <td>100</td>\n",
       "      <td>2.65</td>\n",
       "      <td>2.76</td>\n",
       "      <td>0.26</td>\n",
       "      <td>1.28</td>\n",
       "      <td>4.38</td>\n",
       "      <td>1.05</td>\n",
       "      <td>3.40</td>\n",
       "      <td>1050</td>\n",
       "    </tr>\n",
       "    <tr>\n",
       "      <th>2</th>\n",
       "      <td>1</td>\n",
       "      <td>13.16</td>\n",
       "      <td>2.36</td>\n",
       "      <td>2.67</td>\n",
       "      <td>18.6</td>\n",
       "      <td>101</td>\n",
       "      <td>2.80</td>\n",
       "      <td>3.24</td>\n",
       "      <td>0.30</td>\n",
       "      <td>2.81</td>\n",
       "      <td>5.68</td>\n",
       "      <td>1.03</td>\n",
       "      <td>3.17</td>\n",
       "      <td>1185</td>\n",
       "    </tr>\n",
       "    <tr>\n",
       "      <th>3</th>\n",
       "      <td>1</td>\n",
       "      <td>14.37</td>\n",
       "      <td>1.95</td>\n",
       "      <td>2.50</td>\n",
       "      <td>16.8</td>\n",
       "      <td>113</td>\n",
       "      <td>3.85</td>\n",
       "      <td>3.49</td>\n",
       "      <td>0.24</td>\n",
       "      <td>2.18</td>\n",
       "      <td>7.80</td>\n",
       "      <td>0.86</td>\n",
       "      <td>3.45</td>\n",
       "      <td>1480</td>\n",
       "    </tr>\n",
       "    <tr>\n",
       "      <th>4</th>\n",
       "      <td>1</td>\n",
       "      <td>13.24</td>\n",
       "      <td>2.59</td>\n",
       "      <td>2.87</td>\n",
       "      <td>21.0</td>\n",
       "      <td>118</td>\n",
       "      <td>2.80</td>\n",
       "      <td>2.69</td>\n",
       "      <td>0.39</td>\n",
       "      <td>1.82</td>\n",
       "      <td>4.32</td>\n",
       "      <td>1.04</td>\n",
       "      <td>2.93</td>\n",
       "      <td>735</td>\n",
       "    </tr>\n",
       "  </tbody>\n",
       "</table>\n",
       "</div>"
      ],
      "text/plain": [
       "   Cultivar  Alcohol  Malic   Ash  Alkalinity  Magnesium  Phenols  Flavanoids  \\\n",
       "0         1    14.23   1.71  2.43        15.6        127     2.80        3.06   \n",
       "1         1    13.20   1.78  2.14        11.2        100     2.65        2.76   \n",
       "2         1    13.16   2.36  2.67        18.6        101     2.80        3.24   \n",
       "3         1    14.37   1.95  2.50        16.8        113     3.85        3.49   \n",
       "4         1    13.24   2.59  2.87        21.0        118     2.80        2.69   \n",
       "\n",
       "   Nonflav  Proanthocyan  Color   Hue  OD280  Proline  \n",
       "0     0.28          2.29   5.64  1.04   3.92     1065  \n",
       "1     0.26          1.28   4.38  1.05   3.40     1050  \n",
       "2     0.30          2.81   5.68  1.03   3.17     1185  \n",
       "3     0.24          2.18   7.80  0.86   3.45     1480  \n",
       "4     0.39          1.82   4.32  1.04   2.93      735  "
      ]
     },
     "execution_count": 7,
     "metadata": {},
     "output_type": "execute_result"
    }
   ],
   "source": [
    "# Finds number of rows and columns in dataframe\n",
    "rows, cols = wine_df.shape\n",
    "print(\"Dataframe has\", rows, \"records and\", cols, \"variables.\\n\")\n",
    "wine_df.head()"
   ]
  },
  {
   "cell_type": "markdown",
   "metadata": {
    "_uuid": "fd271856eddf296d0d318d8b3829781e14ec849f"
   },
   "source": [
    "## Variables\n"
   ]
  },
  {
   "cell_type": "code",
   "execution_count": 8,
   "metadata": {
    "_uuid": "d2cfc41b375cf149bbf8c819ad2dee27b9e7ef51"
   },
   "outputs": [
    {
     "name": "stdout",
     "output_type": "stream",
     "text": [
      "The attributes in the dataframe are:\n",
      " Index(['Cultivar', 'Alcohol', 'Malic', 'Ash', 'Alkalinity', 'Magnesium',\n",
      "       'Phenols', 'Flavanoids', 'Nonflav', 'Proanthocyan', 'Color', 'Hue',\n",
      "       'OD280', 'Proline'],\n",
      "      dtype='object')\n"
     ]
    }
   ],
   "source": [
    "attributes = wine_df.columns\n",
    "features = attributes[1:]\n",
    "classification = attributes[0]\n",
    "print(\"The attributes in the dataframe are:\\n\", attributes)\n"
   ]
  },
  {
   "cell_type": "markdown",
   "metadata": {
    "_uuid": "a27c434a08a4caf706d0cc73f235005622ee120a"
   },
   "source": [
    "## Data Cleaning\n"
   ]
  },
  {
   "cell_type": "code",
   "execution_count": 9,
   "metadata": {
    "_uuid": "8a7f3c4f72de5e67ebe4918c6ab3763ee4290ca1"
   },
   "outputs": [
    {
     "name": "stdout",
     "output_type": "stream",
     "text": [
      "There are no records with NaN values. Dataframe is already clean.\n",
      "\n"
     ]
    }
   ],
   "source": [
    "# Are there any records with NaN data?\n",
    "NaN_data_flag = wine_df.isnull().any()\n",
    "if NaN_data_flag.any():\n",
    "    print(\"Some records have NaN values. These will be removed...\\n\")\n",
    "    before_rows, before_cols = wine_df.shape\n",
    "    wine_df = wine_df.dropna()\n",
    "    after_rows, after_cols = wine_df.shape\n",
    "    print(\"Dropped\", after_rows - before_rows, \"records. Cleaned dataframe has\", after_rows, \"records.\\n\")\n",
    "else:\n",
    "    print(\"There are no records with NaN values. Dataframe is already clean.\\n\")\n",
    "    "
   ]
  },
  {
   "cell_type": "markdown",
   "metadata": {
    "_uuid": "c4b27a7e269b132ef4387c38319a48a8b4ca17fc"
   },
   "source": [
    "## Descriptive Statistics\n",
    "Descriptive statitics can give information not only on characteristics of the individual attributes but also shed light on how the data can be further cleaned. \n"
   ]
  },
  {
   "cell_type": "code",
   "execution_count": 10,
   "metadata": {
    "_uuid": "b6d9b1baae031eb67ea2cfd824a2b73c4c9ffcbe"
   },
   "outputs": [
    {
     "data": {
      "text/html": [
       "<div>\n",
       "<style scoped>\n",
       "    .dataframe tbody tr th:only-of-type {\n",
       "        vertical-align: middle;\n",
       "    }\n",
       "\n",
       "    .dataframe tbody tr th {\n",
       "        vertical-align: top;\n",
       "    }\n",
       "\n",
       "    .dataframe thead th {\n",
       "        text-align: right;\n",
       "    }\n",
       "</style>\n",
       "<table border=\"1\" class=\"dataframe\">\n",
       "  <thead>\n",
       "    <tr style=\"text-align: right;\">\n",
       "      <th></th>\n",
       "      <th>Cultivar</th>\n",
       "      <th>Alcohol</th>\n",
       "      <th>Malic</th>\n",
       "      <th>Ash</th>\n",
       "      <th>Alkalinity</th>\n",
       "      <th>Magnesium</th>\n",
       "      <th>Phenols</th>\n",
       "      <th>Flavanoids</th>\n",
       "      <th>Nonflav</th>\n",
       "      <th>Proanthocyan</th>\n",
       "      <th>Color</th>\n",
       "      <th>Hue</th>\n",
       "      <th>OD280</th>\n",
       "      <th>Proline</th>\n",
       "    </tr>\n",
       "  </thead>\n",
       "  <tbody>\n",
       "    <tr>\n",
       "      <th>count</th>\n",
       "      <td>178.000</td>\n",
       "      <td>178.000</td>\n",
       "      <td>178.000</td>\n",
       "      <td>178.000</td>\n",
       "      <td>178.000</td>\n",
       "      <td>178.000</td>\n",
       "      <td>178.000</td>\n",
       "      <td>178.000</td>\n",
       "      <td>178.000</td>\n",
       "      <td>178.000</td>\n",
       "      <td>178.000</td>\n",
       "      <td>178.000</td>\n",
       "      <td>178.000</td>\n",
       "      <td>178.000</td>\n",
       "    </tr>\n",
       "    <tr>\n",
       "      <th>mean</th>\n",
       "      <td>1.938</td>\n",
       "      <td>13.001</td>\n",
       "      <td>2.336</td>\n",
       "      <td>2.367</td>\n",
       "      <td>19.495</td>\n",
       "      <td>99.742</td>\n",
       "      <td>2.295</td>\n",
       "      <td>2.029</td>\n",
       "      <td>0.362</td>\n",
       "      <td>1.591</td>\n",
       "      <td>5.058</td>\n",
       "      <td>0.957</td>\n",
       "      <td>2.612</td>\n",
       "      <td>746.893</td>\n",
       "    </tr>\n",
       "    <tr>\n",
       "      <th>std</th>\n",
       "      <td>0.775</td>\n",
       "      <td>0.812</td>\n",
       "      <td>1.117</td>\n",
       "      <td>0.274</td>\n",
       "      <td>3.340</td>\n",
       "      <td>14.282</td>\n",
       "      <td>0.626</td>\n",
       "      <td>0.999</td>\n",
       "      <td>0.124</td>\n",
       "      <td>0.572</td>\n",
       "      <td>2.318</td>\n",
       "      <td>0.229</td>\n",
       "      <td>0.710</td>\n",
       "      <td>314.907</td>\n",
       "    </tr>\n",
       "    <tr>\n",
       "      <th>min</th>\n",
       "      <td>1.000</td>\n",
       "      <td>11.030</td>\n",
       "      <td>0.740</td>\n",
       "      <td>1.360</td>\n",
       "      <td>10.600</td>\n",
       "      <td>70.000</td>\n",
       "      <td>0.980</td>\n",
       "      <td>0.340</td>\n",
       "      <td>0.130</td>\n",
       "      <td>0.410</td>\n",
       "      <td>1.280</td>\n",
       "      <td>0.480</td>\n",
       "      <td>1.270</td>\n",
       "      <td>278.000</td>\n",
       "    </tr>\n",
       "    <tr>\n",
       "      <th>25%</th>\n",
       "      <td>1.000</td>\n",
       "      <td>12.362</td>\n",
       "      <td>1.602</td>\n",
       "      <td>2.210</td>\n",
       "      <td>17.200</td>\n",
       "      <td>88.000</td>\n",
       "      <td>1.742</td>\n",
       "      <td>1.205</td>\n",
       "      <td>0.270</td>\n",
       "      <td>1.250</td>\n",
       "      <td>3.220</td>\n",
       "      <td>0.782</td>\n",
       "      <td>1.938</td>\n",
       "      <td>500.500</td>\n",
       "    </tr>\n",
       "    <tr>\n",
       "      <th>50%</th>\n",
       "      <td>2.000</td>\n",
       "      <td>13.050</td>\n",
       "      <td>1.865</td>\n",
       "      <td>2.360</td>\n",
       "      <td>19.500</td>\n",
       "      <td>98.000</td>\n",
       "      <td>2.355</td>\n",
       "      <td>2.135</td>\n",
       "      <td>0.340</td>\n",
       "      <td>1.555</td>\n",
       "      <td>4.690</td>\n",
       "      <td>0.965</td>\n",
       "      <td>2.780</td>\n",
       "      <td>673.500</td>\n",
       "    </tr>\n",
       "    <tr>\n",
       "      <th>75%</th>\n",
       "      <td>3.000</td>\n",
       "      <td>13.678</td>\n",
       "      <td>3.082</td>\n",
       "      <td>2.558</td>\n",
       "      <td>21.500</td>\n",
       "      <td>107.000</td>\n",
       "      <td>2.800</td>\n",
       "      <td>2.875</td>\n",
       "      <td>0.438</td>\n",
       "      <td>1.950</td>\n",
       "      <td>6.200</td>\n",
       "      <td>1.120</td>\n",
       "      <td>3.170</td>\n",
       "      <td>985.000</td>\n",
       "    </tr>\n",
       "    <tr>\n",
       "      <th>max</th>\n",
       "      <td>3.000</td>\n",
       "      <td>14.830</td>\n",
       "      <td>5.800</td>\n",
       "      <td>3.230</td>\n",
       "      <td>30.000</td>\n",
       "      <td>162.000</td>\n",
       "      <td>3.880</td>\n",
       "      <td>5.080</td>\n",
       "      <td>0.660</td>\n",
       "      <td>3.580</td>\n",
       "      <td>13.000</td>\n",
       "      <td>1.710</td>\n",
       "      <td>4.000</td>\n",
       "      <td>1680.000</td>\n",
       "    </tr>\n",
       "  </tbody>\n",
       "</table>\n",
       "</div>"
      ],
      "text/plain": [
       "       Cultivar  Alcohol    Malic      Ash  Alkalinity  Magnesium  Phenols  \\\n",
       "count   178.000  178.000  178.000  178.000     178.000    178.000  178.000   \n",
       "mean      1.938   13.001    2.336    2.367      19.495     99.742    2.295   \n",
       "std       0.775    0.812    1.117    0.274       3.340     14.282    0.626   \n",
       "min       1.000   11.030    0.740    1.360      10.600     70.000    0.980   \n",
       "25%       1.000   12.362    1.602    2.210      17.200     88.000    1.742   \n",
       "50%       2.000   13.050    1.865    2.360      19.500     98.000    2.355   \n",
       "75%       3.000   13.678    3.082    2.558      21.500    107.000    2.800   \n",
       "max       3.000   14.830    5.800    3.230      30.000    162.000    3.880   \n",
       "\n",
       "       Flavanoids  Nonflav  Proanthocyan    Color      Hue    OD280   Proline  \n",
       "count     178.000  178.000       178.000  178.000  178.000  178.000   178.000  \n",
       "mean        2.029    0.362         1.591    5.058    0.957    2.612   746.893  \n",
       "std         0.999    0.124         0.572    2.318    0.229    0.710   314.907  \n",
       "min         0.340    0.130         0.410    1.280    0.480    1.270   278.000  \n",
       "25%         1.205    0.270         1.250    3.220    0.782    1.938   500.500  \n",
       "50%         2.135    0.340         1.555    4.690    0.965    2.780   673.500  \n",
       "75%         2.875    0.438         1.950    6.200    1.120    3.170   985.000  \n",
       "max         5.080    0.660         3.580   13.000    1.710    4.000  1680.000  "
      ]
     },
     "execution_count": 10,
     "metadata": {},
     "output_type": "execute_result"
    }
   ],
   "source": [
    "wine_df.describe().round(3)"
   ]
  },
  {
   "cell_type": "markdown",
   "metadata": {
    "_uuid": "59aa7c4912a1a8ea31670b0d77e9c36fd75be536"
   },
   "source": [
    "## Research Questions\n",
    "Based on the dataset's attributes, the following two research questions will be investigated:\n",
    "\n",
    "a) Is the mean color intensity in wine from cultivar 2 significantly higher than the mean color intensity in wine from cultivar 1 at a confidence level of 95%?\n",
    "b) Is there a significant difference in hue between different types of wines, 1 and 3?\n"
   ]
  },
  {
   "cell_type": "markdown",
   "metadata": {
    "_uuid": "bfc08e4c2313bfbc66e447033e8dceac9e70caa9"
   },
   "source": [
    "## Variable Distributions\n",
    "It's imporant to know if the dataset contains sufficient samples of each cultivar. If one cultivar has few samples, then it'd be difficult to use decision trees to do an effective classification."
   ]
  },
  {
   "cell_type": "code",
   "execution_count": 11,
   "metadata": {
    "_uuid": "76fcdad065653e6b2bc3e0760c3fb5497fb65041"
   },
   "outputs": [
    {
     "data": {
      "text/plain": [
       "<AxesSubplot: ylabel='Cultivar'>"
      ]
     },
     "execution_count": 11,
     "metadata": {},
     "output_type": "execute_result"
    },
    {
     "data": {
      "image/png": "[encoded data removed]",
      "text/plain": [
       "<Figure size 400x400 with 1 Axes>"
      ]
     },
     "metadata": {},
     "output_type": "display_data"
    }
   ],
   "source": [
    "# Samples per Cultivar\n",
    "region_counts = wine_df['Cultivar'].value_counts()\n",
    "explode = (0, 0.1, 0)\n",
    "region_counts.plot(kind='pie',autopct='%.0f%%', shadow=True, figsize=(4,4), radius=1.0)\n"
   ]
  },
  {
   "cell_type": "code",
   "execution_count": 14,
   "metadata": {
    "_uuid": "d656b8de4e5920e4fb50df174e950e348e2fc53d"
   },
   "outputs": [
    {
     "data": {
      "image/png": "[encoded data removed]",
      "text/plain": [
       "<Figure size 640x480 with 1 Axes>"
      ]
     },
     "metadata": {},
     "output_type": "display_data"
    }
   ],
   "source": [
    "hist_quality = wine_df['Alcohol']\n",
    "plt.hist(hist_quality, 10, density=False, facecolor='teal')\n",
    "plt.xlabel('Alcohol')\n",
    "plt.ylabel('Count')\n",
    "plt.title('Alcohol Content Distribution')\n",
    "plt.grid(True)\n",
    "plt.show()"
   ]
  },
  {
   "cell_type": "code",
   "execution_count": 15,
   "metadata": {
    "_uuid": "d902b5db728235d4f738de931b27b2a60f49238b"
   },
   "outputs": [
    {
     "data": {
      "image/png": "[encoded data removed]",
      "text/plain": [
       "<Figure size 640x480 with 1 Axes>"
      ]
     },
     "metadata": {},
     "output_type": "display_data"
    }
   ],
   "source": [
    "hist_fixed = wine_df['Phenols']\n",
    "plt.hist(hist_fixed, 10, density=False, facecolor='blue')\n",
    "plt.xlabel('Phenols')\n",
    "plt.ylabel('Count')\n",
    "plt.title('Phenols Distribution')\n",
    "plt.grid(True)\n",
    "plt.show()\n"
   ]
  },
  {
   "cell_type": "code",
   "execution_count": 16,
   "metadata": {
    "_uuid": "51af13f1e10b05e7f83006fd5e6b9ce29685f933"
   },
   "outputs": [
    {
     "data": {
      "image/png": "[encoded data removed]",
      "text/plain": [
       "<Figure size 640x480 with 1 Axes>"
      ]
     },
     "metadata": {},
     "output_type": "display_data"
    }
   ],
   "source": [
    "hist_volatile = wine_df['Color']\n",
    "plt.hist(hist_volatile, 10, density=False, facecolor='red')\n",
    "plt.xlabel('Color')\n",
    "plt.ylabel('Count')\n",
    "plt.title('Color Distribution')\n",
    "plt.grid(True)\n",
    "plt.show()"
   ]
  },
  {
   "cell_type": "code",
   "execution_count": 17,
   "metadata": {
    "_uuid": "93c03160c8134881563a4c2b921751bb2a026c2e"
   },
   "outputs": [
    {
     "data": {
      "image/png": "[encoded data removed]",
      "text/plain": [
       "<Figure size 640x480 with 1 Axes>"
      ]
     },
     "metadata": {},
     "output_type": "display_data"
    }
   ],
   "source": [
    "hist_citric = wine_df['Nonflav']\n",
    "plt.hist(hist_citric, 10, density=False, facecolor='lime')\n",
    "plt.xlabel('Nonflavanoids')\n",
    "plt.ylabel('Count')\n",
    "plt.title('Nonflavanoids Distribution')\n",
    "plt.grid(True)\n",
    "plt.show()"
   ]
  },
  {
   "cell_type": "markdown",
   "metadata": {
    "_uuid": "2ff4b1c13bdf3b673010b3c2eba86b5cdd7147be",
    "collapsed": true
   },
   "source": [
    "## Classification\n",
    "Classification will be done with a decission tree algorithm. This supervised learning algorithm that will used to learn the *Cultivar* from where the wine comes from based on its chemical features. \n",
    "For clarity, a copy of the original dataframe is made and a additional column is added: the *Cultivar_Label*. This is just a mapping of the *Cultivar* variable that takes values 1, 2, or 3 into a label that takes vales *Cultivar1*, *Cultivar2*, or *Cultivar3*. \n"
   ]
  },
  {
   "cell_type": "code",
   "execution_count": 18,
   "metadata": {
    "_uuid": "e9efbfa43b5efdd62124f00cb4511856babf9623"
   },
   "outputs": [
    {
     "data": {
      "text/html": [
       "<div>\n",
       "<style scoped>\n",
       "    .dataframe tbody tr th:only-of-type {\n",
       "        vertical-align: middle;\n",
       "    }\n",
       "\n",
       "    .dataframe tbody tr th {\n",
       "        vertical-align: top;\n",
       "    }\n",
       "\n",
       "    .dataframe thead th {\n",
       "        text-align: right;\n",
       "    }\n",
       "</style>\n",
       "<table border=\"1\" class=\"dataframe\">\n",
       "  <thead>\n",
       "    <tr style=\"text-align: right;\">\n",
       "      <th></th>\n",
       "      <th>Cultivar</th>\n",
       "      <th>Alcohol</th>\n",
       "      <th>Malic</th>\n",
       "      <th>Ash</th>\n",
       "      <th>Alkalinity</th>\n",
       "      <th>Magnesium</th>\n",
       "      <th>Phenols</th>\n",
       "      <th>Flavanoids</th>\n",
       "      <th>Nonflav</th>\n",
       "      <th>Proanthocyan</th>\n",
       "      <th>Color</th>\n",
       "      <th>Hue</th>\n",
       "      <th>OD280</th>\n",
       "      <th>Proline</th>\n",
       "      <th>Cultivar_Label</th>\n",
       "    </tr>\n",
       "  </thead>\n",
       "  <tbody>\n",
       "    <tr>\n",
       "      <th>0</th>\n",
       "      <td>1</td>\n",
       "      <td>14.23</td>\n",
       "      <td>1.71</td>\n",
       "      <td>2.43</td>\n",
       "      <td>15.6</td>\n",
       "      <td>127</td>\n",
       "      <td>2.80</td>\n",
       "      <td>3.06</td>\n",
       "      <td>0.28</td>\n",
       "      <td>2.29</td>\n",
       "      <td>5.64</td>\n",
       "      <td>1.04</td>\n",
       "      <td>3.92</td>\n",
       "      <td>1065</td>\n",
       "      <td>Cultivar1</td>\n",
       "    </tr>\n",
       "    <tr>\n",
       "      <th>1</th>\n",
       "      <td>1</td>\n",
       "      <td>13.20</td>\n",
       "      <td>1.78</td>\n",
       "      <td>2.14</td>\n",
       "      <td>11.2</td>\n",
       "      <td>100</td>\n",
       "      <td>2.65</td>\n",
       "      <td>2.76</td>\n",
       "      <td>0.26</td>\n",
       "      <td>1.28</td>\n",
       "      <td>4.38</td>\n",
       "      <td>1.05</td>\n",
       "      <td>3.40</td>\n",
       "      <td>1050</td>\n",
       "      <td>Cultivar1</td>\n",
       "    </tr>\n",
       "    <tr>\n",
       "      <th>2</th>\n",
       "      <td>1</td>\n",
       "      <td>13.16</td>\n",
       "      <td>2.36</td>\n",
       "      <td>2.67</td>\n",
       "      <td>18.6</td>\n",
       "      <td>101</td>\n",
       "      <td>2.80</td>\n",
       "      <td>3.24</td>\n",
       "      <td>0.30</td>\n",
       "      <td>2.81</td>\n",
       "      <td>5.68</td>\n",
       "      <td>1.03</td>\n",
       "      <td>3.17</td>\n",
       "      <td>1185</td>\n",
       "      <td>Cultivar1</td>\n",
       "    </tr>\n",
       "    <tr>\n",
       "      <th>3</th>\n",
       "      <td>1</td>\n",
       "      <td>14.37</td>\n",
       "      <td>1.95</td>\n",
       "      <td>2.50</td>\n",
       "      <td>16.8</td>\n",
       "      <td>113</td>\n",
       "      <td>3.85</td>\n",
       "      <td>3.49</td>\n",
       "      <td>0.24</td>\n",
       "      <td>2.18</td>\n",
       "      <td>7.80</td>\n",
       "      <td>0.86</td>\n",
       "      <td>3.45</td>\n",
       "      <td>1480</td>\n",
       "      <td>Cultivar1</td>\n",
       "    </tr>\n",
       "    <tr>\n",
       "      <th>4</th>\n",
       "      <td>1</td>\n",
       "      <td>13.24</td>\n",
       "      <td>2.59</td>\n",
       "      <td>2.87</td>\n",
       "      <td>21.0</td>\n",
       "      <td>118</td>\n",
       "      <td>2.80</td>\n",
       "      <td>2.69</td>\n",
       "      <td>0.39</td>\n",
       "      <td>1.82</td>\n",
       "      <td>4.32</td>\n",
       "      <td>1.04</td>\n",
       "      <td>2.93</td>\n",
       "      <td>735</td>\n",
       "      <td>Cultivar1</td>\n",
       "    </tr>\n",
       "  </tbody>\n",
       "</table>\n",
       "</div>"
      ],
      "text/plain": [
       "   Cultivar  Alcohol  Malic   Ash  Alkalinity  Magnesium  Phenols  Flavanoids  \\\n",
       "0         1    14.23   1.71  2.43        15.6        127     2.80        3.06   \n",
       "1         1    13.20   1.78  2.14        11.2        100     2.65        2.76   \n",
       "2         1    13.16   2.36  2.67        18.6        101     2.80        3.24   \n",
       "3         1    14.37   1.95  2.50        16.8        113     3.85        3.49   \n",
       "4         1    13.24   2.59  2.87        21.0        118     2.80        2.69   \n",
       "\n",
       "   Nonflav  Proanthocyan  Color   Hue  OD280  Proline Cultivar_Label  \n",
       "0     0.28          2.29   5.64  1.04   3.92     1065      Cultivar1  \n",
       "1     0.26          1.28   4.38  1.05   3.40     1050      Cultivar1  \n",
       "2     0.30          2.81   5.68  1.03   3.17     1185      Cultivar1  \n",
       "3     0.24          2.18   7.80  0.86   3.45     1480      Cultivar1  \n",
       "4     0.39          1.82   4.32  1.04   2.93      735      Cultivar1  "
      ]
     },
     "execution_count": 18,
     "metadata": {},
     "output_type": "execute_result"
    }
   ],
   "source": [
    "classification_data = wine_df.copy()\n",
    "label_mapping = {1:'Cultivar1', 2:'Cultivar2', 3:'Cultivar3'}\n",
    "classification_data['Cultivar_Label'] = classification_data['Cultivar'].map(label_mapping)\n",
    "classification_data.head()"
   ]
  },
  {
   "cell_type": "code",
   "execution_count": 19,
   "metadata": {
    "_uuid": "f9ce5fae51620aa4d672f694c6e54e1de352e4db"
   },
   "outputs": [],
   "source": [
    "# Target is stored in Y\n",
    "Y = classification_data[['Cultivar_Label']].copy()\n",
    "\n",
    "# Training features are stored in X\n",
    "features = ['Alcohol', 'Malic', 'Ash', 'Alkalinity', 'Magnesium', 'Phenols', \n",
    "            'Flavanoids', 'Nonflav', 'Proanthocyan', 'Color', 'Hue', 'OD280', 'Proline']\n",
    "X = classification_data[features].copy()\n"
   ]
  },
  {
   "cell_type": "markdown",
   "metadata": {
    "_uuid": "07c6ac5e0ae43268d916aa126c05fa88199e6b5e"
   },
   "source": [
    "## Back to correlation\n",
    "Now that it's clear we have strong relationships between cultivars and chemical properties, we can run correlation identifying the cultivar.\n"
   ]
  },
  {
   "cell_type": "code",
   "execution_count": 20,
   "metadata": {
    "_uuid": "4686e72a54c0965792ba58d3fd3a412dacc4ce69"
   },
   "outputs": [
    {
     "data": {
      "text/html": [
       "<div>\n",
       "<style scoped>\n",
       "    .dataframe tbody tr th:only-of-type {\n",
       "        vertical-align: middle;\n",
       "    }\n",
       "\n",
       "    .dataframe tbody tr th {\n",
       "        vertical-align: top;\n",
       "    }\n",
       "\n",
       "    .dataframe thead th {\n",
       "        text-align: right;\n",
       "    }\n",
       "</style>\n",
       "<table border=\"1\" class=\"dataframe\">\n",
       "  <thead>\n",
       "    <tr style=\"text-align: right;\">\n",
       "      <th></th>\n",
       "      <th>Cultivar1</th>\n",
       "      <th>Cultivar2</th>\n",
       "      <th>Cultivar3</th>\n",
       "    </tr>\n",
       "  </thead>\n",
       "  <tbody>\n",
       "    <tr>\n",
       "      <th>Alcohol</th>\n",
       "      <td>0.65</td>\n",
       "      <td>-0.73</td>\n",
       "      <td>0.11</td>\n",
       "    </tr>\n",
       "    <tr>\n",
       "      <th>Magnesium</th>\n",
       "      <td>0.33</td>\n",
       "      <td>-0.30</td>\n",
       "      <td>-0.02</td>\n",
       "    </tr>\n",
       "    <tr>\n",
       "      <th>Phenols</th>\n",
       "      <td>0.61</td>\n",
       "      <td>-0.05</td>\n",
       "      <td>-0.60</td>\n",
       "    </tr>\n",
       "    <tr>\n",
       "      <th>Flavanoids</th>\n",
       "      <td>0.67</td>\n",
       "      <td>0.04</td>\n",
       "      <td>-0.76</td>\n",
       "    </tr>\n",
       "    <tr>\n",
       "      <th>Nonflav</th>\n",
       "      <td>-0.41</td>\n",
       "      <td>0.01</td>\n",
       "      <td>0.42</td>\n",
       "    </tr>\n",
       "    <tr>\n",
       "      <th>Ash</th>\n",
       "      <td>0.23</td>\n",
       "      <td>-0.36</td>\n",
       "      <td>0.16</td>\n",
       "    </tr>\n",
       "    <tr>\n",
       "      <th>Alkalinity</th>\n",
       "      <td>-0.52</td>\n",
       "      <td>0.18</td>\n",
       "      <td>0.35</td>\n",
       "    </tr>\n",
       "    <tr>\n",
       "      <th>Color</th>\n",
       "      <td>0.14</td>\n",
       "      <td>-0.69</td>\n",
       "      <td>0.61</td>\n",
       "    </tr>\n",
       "    <tr>\n",
       "      <th>Hue</th>\n",
       "      <td>0.32</td>\n",
       "      <td>0.35</td>\n",
       "      <td>-0.73</td>\n",
       "    </tr>\n",
       "    <tr>\n",
       "      <th>Proanthocyan</th>\n",
       "      <td>0.38</td>\n",
       "      <td>0.06</td>\n",
       "      <td>-0.47</td>\n",
       "    </tr>\n",
       "    <tr>\n",
       "      <th>OD280</th>\n",
       "      <td>0.54</td>\n",
       "      <td>0.20</td>\n",
       "      <td>-0.80</td>\n",
       "    </tr>\n",
       "    <tr>\n",
       "      <th>Malic</th>\n",
       "      <td>-0.21</td>\n",
       "      <td>-0.30</td>\n",
       "      <td>0.54</td>\n",
       "    </tr>\n",
       "    <tr>\n",
       "      <th>Proline</th>\n",
       "      <td>0.83</td>\n",
       "      <td>-0.59</td>\n",
       "      <td>-0.23</td>\n",
       "    </tr>\n",
       "  </tbody>\n",
       "</table>\n",
       "</div>"
      ],
      "text/plain": [
       "              Cultivar1  Cultivar2  Cultivar3\n",
       "Alcohol            0.65      -0.73       0.11\n",
       "Magnesium          0.33      -0.30      -0.02\n",
       "Phenols            0.61      -0.05      -0.60\n",
       "Flavanoids         0.67       0.04      -0.76\n",
       "Nonflav           -0.41       0.01       0.42\n",
       "Ash                0.23      -0.36       0.16\n",
       "Alkalinity        -0.52       0.18       0.35\n",
       "Color              0.14      -0.69       0.61\n",
       "Hue                0.32       0.35      -0.73\n",
       "Proanthocyan       0.38       0.06      -0.47\n",
       "OD280              0.54       0.20      -0.80\n",
       "Malic             -0.21      -0.30       0.54\n",
       "Proline            0.83      -0.59      -0.23"
      ]
     },
     "execution_count": 20,
     "metadata": {},
     "output_type": "execute_result"
    }
   ],
   "source": [
    "wine_df['Cultivar1'] = wine_df['Cultivar'] == 1\n",
    "wine_df['Cultivar2'] = wine_df['Cultivar'] == 2\n",
    "wine_df['Cultivar3'] = wine_df['Cultivar'] == 3\n",
    "corrVariables = ['Cultivar1', 'Cultivar2', 'Cultivar3', 'Alcohol', 'Magnesium',\n",
    "                'Phenols', 'Flavanoids', 'Nonflav', 'Ash', 'Alkalinity', 'Color', 'Hue', \n",
    "                 'Proanthocyan', 'OD280', 'Malic', 'Proline']\n",
    "cultivars_df = wine_df[corrVariables]\n",
    "\n",
    "\n",
    "# Correlation\n",
    "corr = cultivars_df.corr().round(2)\n",
    "corr = corr[['Cultivar1', 'Cultivar2', 'Cultivar3']]\n",
    "cultivarCorr = corr.drop(['Cultivar1', 'Cultivar2', 'Cultivar3'], axis = 0)\n",
    "cultivarCorr\n",
    "            "
   ]
  },
  {
   "cell_type": "code",
   "execution_count": 21,
   "metadata": {
    "_uuid": "c748fefeac92da93aafdb0afc5296d145476dfa4"
   },
   "outputs": [
    {
     "data": {
      "image/png": "[encoded data removed]",
      "text/plain": [
       "<Figure size 1000x1000 with 1 Axes>"
      ]
     },
     "metadata": {},
     "output_type": "display_data"
    }
   ],
   "source": [
    "# Heatmap of the correlation matrix above\n",
    "heatmapRows = ['Cultivar1', 'Cultivar2', 'Cultivar3']\n",
    "heatmapCols = ['Alcohol', 'Magnesium', 'Phenols', 'Flavanoids', 'Nonflav', 'Ash', \n",
    "               'Alkalinity', 'Color', 'Hue', 'Proanthocyan', 'OD280', 'Malic', 'Proline']\n",
    "\n",
    "fig, ax = plt.subplots(figsize=(10, 10))\n",
    "im = ax.imshow(cultivarCorr, interpolation='nearest')\n",
    "\n",
    "# We want to show all ticks...\n",
    "ax.set_xticks(np.arange(len(heatmapRows)))\n",
    "ax.set_yticks(np.arange(len(heatmapCols)))\n",
    "# ... and label them with the respective list entries\n",
    "ax.set_xticklabels(heatmapRows)\n",
    "ax.set_yticklabels(heatmapCols)\n",
    "\n",
    "# Rotate the tick labels and set their alignment.\n",
    "plt.setp(ax.get_xticklabels(), rotation=45, ha=\"right\",\n",
    "         rotation_mode=\"anchor\")\n",
    "\n",
    "# Loop over data dimensions and create text annotations.\n",
    "for i in range(len(heatmapCols)):\n",
    "    for j in range(len(heatmapRows)):\n",
    "        text = ax.text(j, i, cultivarCorr.iloc[i][j], ha=\"center\", va=\"center\", color=\"w\")\n",
    "\n",
    "ax.set_title(\"Heatmap between Cultivars and Chemical Attributes\")\n",
    "fig.tight_layout()\n",
    "plt.show()\n",
    "\n"
   ]
  },
  {
   "cell_type": "code",
   "execution_count": 8,
   "metadata": {
    "_uuid": "4697536be5b353be4d1ab94d0885ad0384d88186"
   },
   "outputs": [
    {
     "name": "stdout",
     "output_type": "stream",
     "text": [
      "Sample Mean: -0.27\n",
      "Confidence Interval (95%): [-5.55, 5.00]\n",
      "The mean is not significantly higher from zero at a 95% confidence level.\n"
     ]
    }
   ],
   "source": [
    "# Sample data for the two color intensities\n",
    "data = {\n",
    "    'color': ['Color1', 'Color2'],\n",
    "    'cultivar': [0.14, -0.69]\n",
    "}\n",
    "\n",
    "df = pd.DataFrame(data)\n",
    "\n",
    "# Calculate the mean and standard deviation of the colors.\n",
    "sample_mean = df['cultivar'].mean()\n",
    "sample_std = df['cultivar'].std()\n",
    "\n",
    "# Calculate the standard error (SE).\n",
    "sample_size = 2\n",
    "standard_error = sample_std / np.sqrt(sample_size)\n",
    "\n",
    "# Determine the critical value for a 95% confidence level (two-tailed t-distribution).\n",
    "confidence_level = 0.95\n",
    "alpha = 1 - confidence_level\n",
    "critical_value = t.ppf(1 - alpha / 2, df=sample_size - 1)\n",
    "\n",
    "# Calculate the margin of error (MOE).\n",
    "margin_of_error = critical_value * standard_error\n",
    "\n",
    "# Calculate the confidence interval.\n",
    "lower_bound = sample_mean - margin_of_error\n",
    "upper_bound = sample_mean + margin_of_error\n",
    "\n",
    "# Print the results.\n",
    "print(f\"Sample Mean: {sample_mean:.2f}\")\n",
    "print(f\"Confidence Interval (95%): [{lower_bound:.2f}, {upper_bound:.2f}]\")\n",
    "\n",
    "# Check if the confidence interval includes zero\n",
    "if lower_bound > 0 or upper_bound < 0:\n",
    "    print(\"The mean is significantly higher from zero at a 95% confidence level.\")\n",
    "else:\n",
    "    print(\"The mean is not significantly higher from zero at a 95% confidence level.\")\n"
   ]
  },
  {
   "cell_type": "code",
   "execution_count": 9,
   "metadata": {},
   "outputs": [
    {
     "name": "stdout",
     "output_type": "stream",
     "text": [
      "There is no significant difference in hue between cultivar 1 and cultivar 3.\n"
     ]
    },
    {
     "name": "stderr",
     "output_type": "stream",
     "text": [
      "C:\\Users\\Public\\Documents\\Wondershare\\CreatorTemp\\ipykernel_1984\\46976424.py:14: RuntimeWarning: Precision loss occurred in moment calculation due to catastrophic cancellation. This occurs when the data are nearly identical. Results may be unreliable.\n",
      "  t_statistic, p_value = ttest_ind(hue_cultivar_1, hue_cultivar_3)\n"
     ]
    }
   ],
   "source": [
    "# Sample data for hue values of cultivar 1 and cultivar 3\n",
    "data = {\n",
    "    'cultivar': [1, 3],\n",
    "    'hue': [0.32, -0.73]\n",
    "}\n",
    "\n",
    "df = pd.DataFrame(data)\n",
    "\n",
    "# Separate the hue data for cultivar 1 and cultivar 3\n",
    "hue_cultivar_1 = df[df['cultivar'] == 1]['hue']\n",
    "hue_cultivar_3 = df[df['cultivar'] == 3]['hue']\n",
    "\n",
    "# Perform the two-sample t-test\n",
    "t_statistic, p_value = ttest_ind(hue_cultivar_1, hue_cultivar_3)\n",
    "\n",
    "# Define the confidence level (95%)\n",
    "confidence_level = 0.95\n",
    "\n",
    "# Check if the p-value is less than the significance level (alpha)\n",
    "alpha = 1 - confidence_level\n",
    "if p_value < alpha:\n",
    "    print(\"There is a significant difference in hue between cultivar 1 and cultivar 3.\")\n",
    "else:\n",
    "    print(\"There is no significant difference in hue between cultivar 1 and cultivar 3.\")\n"
   ]
  }
 ],
 "metadata": {
  "anaconda-cloud": {},
  "kernelspec": {
   "display_name": "Python 3 (ipykernel)",
   "language": "python",
   "name": "python3"
  },
  "language_info": {
   "codemirror_mode": {
    "name": "ipython",
    "version": 3
   },
   "file_extension": ".py",
   "mimetype": "text/x-python",
   "name": "python",
   "nbconvert_exporter": "python",
   "pygments_lexer": "ipython3",
   "version": "3.10.4"
  }
 },
 "nbformat": 4,
 "nbformat_minor": 1
}
